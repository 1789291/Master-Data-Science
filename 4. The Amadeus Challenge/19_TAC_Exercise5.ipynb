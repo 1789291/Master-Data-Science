{
 "cells": [
  {
   "cell_type": "markdown",
   "metadata": {
    "collapsed": true
   },
   "source": [
    "## Write a Web Service\n",
    "\n",
    "Wrap the output of the second exercise in a web service that returns the data in JSON format (instead of printing to the standard output).\n",
    "\n",
    "The web service should accept a parameter n>0. For the top 10 airports, n is 10. For the X top airports, n is X \n"
   ]
  },
  {
   "cell_type": "code",
   "execution_count": 1,
   "metadata": {
    "scrolled": true
   },
   "outputs": [
    {
     "name": "stdout",
     "output_type": "stream",
     "text": [
      "Start processing chunk 0 at 2018-06-02 13:31:09.755007\n",
      "Start processing chunk 1 at 2018-06-02 13:31:34.166281\n",
      "Start processing chunk 2 at 2018-06-02 13:31:58.904248\n",
      "Start processing chunk 3 at 2018-06-02 13:32:24.047505\n",
      "Start processing chunk 4 at 2018-06-02 13:32:48.765895\n"
     ]
    },
    {
     "name": "stderr",
     "output_type": "stream",
     "text": [
      "<string>:2: DtypeWarning: Columns (7,8,27) have mixed types. Specify dtype option on import or set low_memory=False.\n"
     ]
    },
    {
     "name": "stdout",
     "output_type": "stream",
     "text": [
      "Start processing chunk 5 at 2018-06-02 13:33:13.735675\n",
      "Start processing chunk 6 at 2018-06-02 13:33:38.879540\n",
      "Start processing chunk 7 at 2018-06-02 13:34:03.644247\n",
      "Start processing chunk 8 at 2018-06-02 13:34:31.826140\n",
      "Start processing chunk 9 at 2018-06-02 13:34:58.524032\n",
      "Start processing chunk 10 at 2018-06-02 13:34:58.732454\n",
      "CPU times: user 3min 53s, sys: 14.2 s, total: 4min 8s\n",
      "Wall time: 4min 13s\n"
     ]
    }
   ],
   "source": [
    "%%time\n",
    "\n",
    "import pandas as pd\n",
    "from datetime import datetime\n",
    "\n",
    "bookings_file = 'bookings.csv.bz2'\n",
    "data = pd.read_csv(bookings_file, sep = '^', chunksize = 1000000)\n",
    "\n",
    "partial_results = []\n",
    "\n",
    "for chunk_num, chunk in enumerate(data):\n",
    "    \n",
    "    print('Start processing chunk %d at %s' % (chunk_num, datetime.now()))\n",
    "    \n",
    "    chunk = chunk[['arr_port', 'pax', 'year']].dropna()\n",
    "    chunk = chunk[chunk['year'] == 2013]\n",
    "    result_from_this_chunk = chunk.groupby('arr_port')['pax'].sum()\n",
    "    \n",
    "    partial_results.append(result_from_this_chunk)\n",
    "    \n",
    "all_results = pd.concat(partial_results)\n",
    "total_arrivals = all_results.groupby('arr_port').sum()\n",
    "sorted_by_arrivals = total_arrivals.sort_values(ascending = False)\n",
    "sorted_by_arrivals.index = sorted_by_arrivals.index.str.strip()"
   ]
  },
  {
   "cell_type": "code",
   "execution_count": 9,
   "metadata": {},
   "outputs": [
    {
     "name": "stderr",
     "output_type": "stream",
     "text": [
      " * Running on http://localhost:5000/ (Press CTRL+C to quit)\n",
      "127.0.0.1 - - [02/Jun/2018 13:42:01] \"GET /topnairports?n=5 HTTP/1.1\" 200 -\n"
     ]
    }
   ],
   "source": [
    "from flask import Flask, request\n",
    "from werkzeug.serving import run_simple\n",
    "\n",
    "\n",
    "app = Flask('topnairports-service')\n",
    "\n",
    "@app.route('/topnairports')\n",
    "def topnairports():\n",
    "    \n",
    "    n = int(request.args.get('n'))\n",
    "    return sorted_by_arrivals.head(n).to_json()\n",
    "                      \n",
    "run_simple('localhost', 5000, app)"
   ]
  },
  {
   "cell_type": "markdown",
   "metadata": {},
   "source": [
    "http://localhost:5000/topnairports?n=5"
   ]
  },
  {
   "cell_type": "markdown",
   "metadata": {},
   "source": [
    "## Web Service"
   ]
  },
  {
   "cell_type": "markdown",
   "metadata": {},
   "source": [
    "http://flask.pocoo.org/docs/1.0/quickstart"
   ]
  },
  {
   "cell_type": "code",
   "execution_count": null,
   "metadata": {
    "collapsed": true
   },
   "outputs": [],
   "source": []
  },
  {
   "cell_type": "markdown",
   "metadata": {},
   "source": [
    "http://127.0.0.1:5000/hello"
   ]
  },
  {
   "cell_type": "raw",
   "metadata": {},
   "source": [
    "HTTP (the protocol web applications are speaking) knows different methods for accessing URLs. By default, a route only answers to GET requests, but that can be changed by providing the methods argument to the route() decorator. "
   ]
  },
  {
   "cell_type": "raw",
   "metadata": {},
   "source": [
    "The HTTP method (also often called “the verb”) tells the server what the clients wants to do with the requested page."
   ]
  },
  {
   "cell_type": "raw",
   "metadata": {},
   "source": [
    "GET\n",
    "    The browser tells the server to just get the information stored on that page and send it. This is probably the most common method.\n",
    "\n",
    "HEAD\n",
    "    The browser tells the server to get the information, but it is only interested in the headers, not the content of the page. An application is supposed to handle that as if a GET request was received but to not deliver the actual content.\n",
    "    \n",
    "POST\n",
    "    The browser tells the server that it wants to post some new information to that URL and that the server must ensure the data is stored and only stored once. This is how HTML forms usually transmit data to the server.\n",
    "\n",
    "PUT\n",
    "    Similar to POST but the server might trigger the store procedure multiple times by overwriting the old values more than once. Now you might be asking why this is useful, but there are some good reasons to do it this way. Consider that the connection is lost during transmission: in this situation a system between the browser and the server might receive the request safely a second time without breaking things. With POST that would not be possible because it must only be triggered once.\n",
    "\n",
    "DELETE\n",
    "    Remove the information at the given location.\n",
    "\n",
    "OPTIONS\n",
    "    Provides a quick way for a client to figure out which methods are supported by this URL. Starting with Flask 0.6, this is implemented for you automatically. "
   ]
  },
  {
   "cell_type": "code",
   "execution_count": null,
   "metadata": {
    "collapsed": true
   },
   "outputs": [],
   "source": []
  },
  {
   "cell_type": "raw",
   "metadata": {},
   "source": [
    "JavaScript Object Notation, es un formato de texto ligero para el intercambio de datos\n",
    "JSON is text, written with JavaScript object notation.\n",
    "    JSON is data exchange format. You convert to it when you need to make the data available externally. \n",
    "var myObj = { \"name\":\"John\", \"age\":31, \"city\":\"New York\" };"
   ]
  },
  {
   "cell_type": "code",
   "execution_count": null,
   "metadata": {
    "collapsed": true
   },
   "outputs": [],
   "source": []
  },
  {
   "cell_type": "raw",
   "metadata": {},
   "source": [
    "http://jsonprettyprint.com/\n",
    "https://jsonformatter.curiousconcept.com/"
   ]
  },
  {
   "cell_type": "code",
   "execution_count": null,
   "metadata": {
    "collapsed": true
   },
   "outputs": [],
   "source": []
  }
 ],
 "metadata": {
  "kernelspec": {
   "display_name": "Python 3",
   "language": "python",
   "name": "python3"
  },
  "language_info": {
   "codemirror_mode": {
    "name": "ipython",
    "version": 3
   },
   "file_extension": ".py",
   "mimetype": "text/x-python",
   "name": "python",
   "nbconvert_exporter": "python",
   "pygments_lexer": "ipython3",
   "version": "3.6.4"
  }
 },
 "nbformat": 4,
 "nbformat_minor": 1
}

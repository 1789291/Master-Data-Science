{
 "cells": [
  {
   "cell_type": "markdown",
   "metadata": {},
   "source": [
    "# Count the number of lines in Python for each file"
   ]
  },
  {
   "cell_type": "markdown",
   "metadata": {},
   "source": [
    "Files `bookings.csv.bz2` and `searches.csv.bz2`"
   ]
  },
  {
   "cell_type": "code",
   "execution_count": 2,
   "metadata": {},
   "outputs": [
    {
     "name": "stdout",
     "output_type": "stream",
     "text": [
      "total 40K\r\n",
      "drwxrwxr-x 3 dsc dsc 4,0K jun  1 17:55 .\r\n",
      "drwxr-x--- 8 dsc dsc 4,0K jun  1 17:54 ..\r\n",
      "-rw-r--r-- 1 dsc dsc 1,7K jun  1 17:53 ch_01.ipynb\r\n",
      "-rw-r--r-- 1 dsc dsc 6,7K jun  1 17:53 ch_02.ipynb\r\n",
      "-rw-r--r-- 1 dsc dsc 6,5K jun  1 17:53 ch_03.ipynb\r\n",
      "-rw-r--r-- 1 dsc dsc 7,1K jun  1 17:53 ch_04.ipynb\r\n",
      "drwxr-xr-x 2 dsc dsc 4,0K jun  1 17:55 .ipynb_checkpoints\r\n"
     ]
    }
   ],
   "source": [
    "! ls -lah"
   ]
  },
  {
   "cell_type": "markdown",
   "metadata": {},
   "source": [
    "## 1) Command Line\n",
    "\n",
    "Use shell commands with the `!` notation to count the number of lines in `bookings.csv.bz2` and `searches.csv.bz2`."
   ]
  },
  {
   "cell_type": "code",
   "execution_count": 6,
   "metadata": {},
   "outputs": [],
   "source": [
    "bookings_file = 'bookings.csv.bz2'\n",
    "searches_file = 'searches.csv.bz2'"
   ]
  },
  {
   "cell_type": "code",
   "execution_count": 7,
   "metadata": {},
   "outputs": [
    {
     "name": "stdout",
     "output_type": "stream",
     "text": [
      "10000011\r\n"
     ]
    }
   ],
   "source": [
    "! bzcat {bookings_file} | wc -l"
   ]
  },
  {
   "cell_type": "code",
   "execution_count": 8,
   "metadata": {},
   "outputs": [
    {
     "name": "stdout",
     "output_type": "stream",
     "text": [
      "20390198\r\n"
     ]
    }
   ],
   "source": [
    "! bzcat {searches_file} | wc -l"
   ]
  },
  {
   "cell_type": "markdown",
   "metadata": {},
   "source": [
    "## 2) Python:"
   ]
  },
  {
   "cell_type": "markdown",
   "metadata": {},
   "source": [
    "We have 2 options:\n",
    "\n",
    "* without uncompressing\n",
    "\n",
    "* uncompressing the whole file, then reading from the result."
   ]
  },
  {
   "cell_type": "markdown",
   "metadata": {},
   "source": [
    "#### Python without uncompressing"
   ]
  },
  {
   "cell_type": "code",
   "execution_count": 10,
   "metadata": {},
   "outputs": [
    {
     "data": {
      "text/plain": [
       "<bz2.BZ2File at 0x7ff350c607f0>"
      ]
     },
     "execution_count": 10,
     "metadata": {},
     "output_type": "execute_result"
    }
   ],
   "source": [
    "import bz2\n",
    "\n",
    "bookings = bz2.open(bookings_file)\n",
    "bookings"
   ]
  },
  {
   "cell_type": "code",
   "execution_count": 11,
   "metadata": {},
   "outputs": [
    {
     "data": {
      "text/plain": [
       "10000011"
      ]
     },
     "execution_count": 11,
     "metadata": {},
     "output_type": "execute_result"
    }
   ],
   "source": [
    "lines = 0\n",
    "\n",
    "for line in bookings:\n",
    "    lines += 1\n",
    "    \n",
    "lines"
   ]
  },
  {
   "cell_type": "markdown",
   "metadata": {},
   "source": [
    "Esto es muy rápido y funciona con cualquier archivo, lo grande que sea. Va línea a línea leyendo el archivo, no lo mete en memoria y lo procesa."
   ]
  }
 ],
 "metadata": {
  "kernelspec": {
   "display_name": "Python 3",
   "language": "python",
   "name": "python3"
  },
  "language_info": {
   "codemirror_mode": {
    "name": "ipython",
    "version": 3
   },
   "file_extension": ".py",
   "mimetype": "text/x-python",
   "name": "python",
   "nbconvert_exporter": "python",
   "pygments_lexer": "ipython3",
   "version": "3.6.4"
  }
 },
 "nbformat": 4,
 "nbformat_minor": 1
}

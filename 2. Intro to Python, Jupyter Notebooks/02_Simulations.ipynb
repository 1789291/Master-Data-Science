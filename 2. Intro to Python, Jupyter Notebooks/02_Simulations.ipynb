{
 "cells": [
  {
   "cell_type": "markdown",
   "metadata": {},
   "source": [
    "# SIMULACIONES"
   ]
  },
  {
   "cell_type": "markdown",
   "metadata": {},
   "source": [
    "Empezamos con un problema sencillo:\n",
    "\n",
    "El del coche y las cabras y las tres puertas.\n",
    "\n",
    "Eliges una, y el presentador abre otra con una cabra (él sabe dónde están). Después te ofrece cambiar de puerta, qué hay que hacer?\n",
    "\n",
    "Vamos a hacer un experimento a ver qué sale"
   ]
  },
  {
   "cell_type": "code",
   "execution_count": 1,
   "metadata": {
    "collapsed": true
   },
   "outputs": [],
   "source": [
    "import random\n",
    "import seaborn as sns\n",
    "%matplotlib inline"
   ]
  },
  {
   "cell_type": "code",
   "execution_count": 2,
   "metadata": {},
   "outputs": [
    {
     "data": {
      "text/plain": [
       "0.47202206899204"
      ]
     },
     "execution_count": 2,
     "metadata": {},
     "output_type": "execute_result"
    }
   ],
   "source": [
    "# Asumimos que los números aleatorios que queremos reproducir siguen una distribución uniforme\n",
    "random.random()"
   ]
  },
  {
   "cell_type": "code",
   "execution_count": 3,
   "metadata": {},
   "outputs": [
    {
     "data": {
      "text/plain": [
       "27"
      ]
     },
     "execution_count": 3,
     "metadata": {},
     "output_type": "execute_result"
    }
   ],
   "source": [
    "random.randint(1,56)"
   ]
  },
  {
   "cell_type": "code",
   "execution_count": 4,
   "metadata": {},
   "outputs": [
    {
     "data": {
      "text/plain": [
       "2"
      ]
     },
     "execution_count": 4,
     "metadata": {},
     "output_type": "execute_result"
    }
   ],
   "source": [
    "# De una lista, escoge un elemento de una manera aleatoria uniforme\n",
    "\n",
    "random.choice([1,2,3])"
   ]
  },
  {
   "cell_type": "code",
   "execution_count": 5,
   "metadata": {},
   "outputs": [
    {
     "data": {
      "text/plain": [
       "[1, 2, 3, 4, 5, 6, 7, 8, 9, 10]"
      ]
     },
     "execution_count": 5,
     "metadata": {},
     "output_type": "execute_result"
    }
   ],
   "source": [
    "# Ejemplo: vamos a elegir un n. del 1 al 10, y comprobar las probs. de elegir cada uno\n",
    "\n",
    "casos = list(range(1,11))\n",
    "casos"
   ]
  },
  {
   "cell_type": "code",
   "execution_count": 6,
   "metadata": {},
   "outputs": [
    {
     "data": {
      "text/plain": [
       "2"
      ]
     },
     "execution_count": 6,
     "metadata": {},
     "output_type": "execute_result"
    }
   ],
   "source": [
    "random.choice(casos)"
   ]
  },
  {
   "cell_type": "code",
   "execution_count": 7,
   "metadata": {},
   "outputs": [
    {
     "name": "stdout",
     "output_type": "stream",
     "text": [
      "8\n",
      "6\n",
      "4\n",
      "10\n",
      "4\n",
      "4\n"
     ]
    }
   ],
   "source": [
    "N = 6\n",
    "for k in range(N):\n",
    "    print(random.choice(casos))"
   ]
  },
  {
   "cell_type": "code",
   "execution_count": 8,
   "metadata": {
    "collapsed": true
   },
   "outputs": [],
   "source": [
    "# Mediante un diccionario vamos a obtener cuántas veces sale cada número\n",
    "\n",
    "d = {}\n",
    "\n",
    "for c in casos:\n",
    "    d[c] = 0\n",
    "    \n",
    "N = 10000\n",
    "\n",
    "resultados = []\n",
    "for k in range (N):\n",
    "    r = random.choice(casos)\n",
    "    d[r] += 1\n",
    "    resultados.append(r)"
   ]
  },
  {
   "cell_type": "code",
   "execution_count": 9,
   "metadata": {},
   "outputs": [
    {
     "data": {
      "text/plain": [
       "<matplotlib.axes._subplots.AxesSubplot at 0x1f210775160>"
      ]
     },
     "execution_count": 9,
     "metadata": {},
     "output_type": "execute_result"
    },
    {
     "data": {
      "image/png": "[encoded data removed]",
      "text/plain": [
       "<matplotlib.figure.Figure at 0x1f20ce035c0>"
      ]
     },
     "metadata": {},
     "output_type": "display_data"
    }
   ],
   "source": [
    "sns.distplot(resultados, bins = casos + [11])"
   ]
  },
  {
   "cell_type": "markdown",
   "metadata": {
    "collapsed": true
   },
   "source": [
    "Vemos que es uniforme. OK."
   ]
  },
  {
   "cell_type": "markdown",
   "metadata": {},
   "source": [
    "Ahora, el experimento de las puertas:"
   ]
  },
  {
   "cell_type": "code",
   "execution_count": 24,
   "metadata": {},
   "outputs": [
    {
     "name": "stdout",
     "output_type": "stream",
     "text": [
      "El concursante elige la puerta 1\n"
     ]
    },
    {
     "data": {
      "text/plain": [
       "{0, 2}"
      ]
     },
     "execution_count": 24,
     "metadata": {},
     "output_type": "execute_result"
    }
   ],
   "source": [
    "# Creamos una lista que representa las puertas\n",
    "\n",
    "puertas = [0,1,0]\n",
    "\n",
    "puerta = random.choice(range(len(puertas)))\n",
    "print(\"El concursante elige la puerta %d\" % puerta)\n",
    "\n",
    "# El presentador te enseña una puerta con una cabra: no puede enseñarte la del coche, ni la tuya.\n",
    "\n",
    "# Cuáles puede elegir?\n",
    "\n",
    "primera_puerta = puertas.index(0) # Me da la primera puerta que sea un 0.\n",
    "segunda_puerta = puertas.index(0, primera_puerta+1) # Me da la otra que sea un 0, a partir de la siguiente posición\n",
    "\n",
    "puertas_presentador = set([primera_puerta, segunda_puerta]) - set([puerta])\n",
    "\n",
    "puertas_presentador"
   ]
  },
  {
   "cell_type": "code",
   "execution_count": 102,
   "metadata": {},
   "outputs": [
    {
     "name": "stdout",
     "output_type": "stream",
     "text": [
      "El presentador muestra la puerta 2 \n"
     ]
    }
   ],
   "source": [
    "# Ahora hay que implementar la estrategia: no cambiar de puerta.\n",
    "presenta = random.choice(list(puertas_presentador))\n",
    "print(\"El presentador muestra la puerta %d \" % presenta)"
   ]
  },
  {
   "cell_type": "code",
   "execution_count": 106,
   "metadata": {},
   "outputs": [
    {
     "name": "stdout",
     "output_type": "stream",
     "text": [
      "True\n"
     ]
    }
   ],
   "source": [
    "# Cómo sabemos si ha ganado? Viendo el contenido\n",
    "\n",
    "# Primero podemos hacer un check de que lo hemos hecho bien -> la puerta que le enseña no es la que ha elegido\n",
    "assert puerta != presenta # Y no peta, #\n",
    "\n",
    "ha_ganado = (puertas[puerta] == 1)\n",
    "print(ha_ganado)"
   ]
  },
  {
   "cell_type": "code",
   "execution_count": 133,
   "metadata": {
    "collapsed": true
   },
   "outputs": [],
   "source": [
    "# Lo juntamos todo:\n",
    "puertas = [0,1,0]\n",
    "\n",
    "def jugar(puertas):\n",
    "\n",
    "    puerta = random.choice(range(len(puertas)))\n",
    "    # print(\"El concursante elige la puerta %d\" % puerta)\n",
    "\n",
    "    primera_puerta = puertas.index(0)\n",
    "    segunda_puerta = puertas.index(0, primera_puerta+1)\n",
    "\n",
    "    puertas_presentador = set([primera_puerta, segunda_puerta]) - set([puerta])\n",
    "    presenta = random.choice(list(puertas_presentador))\n",
    "    # print(\"El presentador muestra la puerta %d \" % presenta)\n",
    "\n",
    "    assert puerta != presenta # Y no peta, #\n",
    "\n",
    "    ha_ganado = (puertas[puerta] == 1)\n",
    "    \n",
    "    return ha_ganado"
   ]
  },
  {
   "cell_type": "code",
   "execution_count": 134,
   "metadata": {},
   "outputs": [
    {
     "data": {
      "text/plain": [
       "False"
      ]
     },
     "execution_count": 134,
     "metadata": {},
     "output_type": "execute_result"
    }
   ],
   "source": [
    "jugar([0,1,0])\n",
    "\n",
    "# Tengo una función que me devuelve si gana o no cuando no cambia de puerta."
   ]
  },
  {
   "cell_type": "code",
   "execution_count": 184,
   "metadata": {
    "collapsed": true
   },
   "outputs": [],
   "source": [
    "# Lo simulamos muchas veces y metemos el experimento en una función.\n",
    "\n",
    "def experimento(N, puertas, cambia):\n",
    "\n",
    "    puertas = [0,1,0]\n",
    "    N = 10000\n",
    "    aciertos = 0\n",
    "\n",
    "    for k in range(N):\n",
    "        r = jugar ([0,1,0], cambia)\n",
    "        if r:\n",
    "            aciertos +=1\n",
    "    \n",
    "    return aciertos/N\n",
    "    \n",
    "    "
   ]
  },
  {
   "cell_type": "code",
   "execution_count": null,
   "metadata": {
    "collapsed": true
   },
   "outputs": [],
   "source": [
    "# Esto es un experimento\n",
    "\n",
    "experimento(10000, [0,1,0],)"
   ]
  },
  {
   "cell_type": "code",
   "execution_count": 189,
   "metadata": {},
   "outputs": [
    {
     "ename": "KeyboardInterrupt",
     "evalue": "",
     "output_type": "error",
     "traceback": [
      "\u001b[1;31m---------------------------------------------------------------------------\u001b[0m",
      "\u001b[1;31mKeyboardInterrupt\u001b[0m                         Traceback (most recent call last)",
      "\u001b[1;32m<ipython-input-189-790758ccef22>\u001b[0m in \u001b[0;36m<module>\u001b[1;34m()\u001b[0m\n\u001b[0;32m      1\u001b[0m \u001b[1;31m# Ahora lo repito n veces.\u001b[0m\u001b[1;33m\u001b[0m\u001b[1;33m\u001b[0m\u001b[0m\n\u001b[0;32m      2\u001b[0m \u001b[1;33m\u001b[0m\u001b[0m\n\u001b[1;32m----> 3\u001b[1;33m \u001b[0mexperimentos\u001b[0m \u001b[1;33m=\u001b[0m \u001b[1;33m[\u001b[0m\u001b[0mexperimento\u001b[0m \u001b[1;33m(\u001b[0m\u001b[1;36m100\u001b[0m\u001b[1;33m,\u001b[0m \u001b[1;33m[\u001b[0m\u001b[1;36m0\u001b[0m\u001b[1;33m,\u001b[0m\u001b[1;36m1\u001b[0m\u001b[1;33m,\u001b[0m\u001b[1;36m0\u001b[0m\u001b[1;33m]\u001b[0m\u001b[1;33m,\u001b[0m \u001b[1;32mTrue\u001b[0m\u001b[1;33m)\u001b[0m \u001b[1;32mfor\u001b[0m \u001b[0mk\u001b[0m \u001b[1;32min\u001b[0m \u001b[0mrange\u001b[0m\u001b[1;33m(\u001b[0m\u001b[1;36m1000\u001b[0m\u001b[1;33m)\u001b[0m\u001b[1;33m]\u001b[0m\u001b[1;33m\u001b[0m\u001b[0m\n\u001b[0m",
      "\u001b[1;32m<ipython-input-189-790758ccef22>\u001b[0m in \u001b[0;36m<listcomp>\u001b[1;34m(.0)\u001b[0m\n\u001b[0;32m      1\u001b[0m \u001b[1;31m# Ahora lo repito n veces.\u001b[0m\u001b[1;33m\u001b[0m\u001b[1;33m\u001b[0m\u001b[0m\n\u001b[0;32m      2\u001b[0m \u001b[1;33m\u001b[0m\u001b[0m\n\u001b[1;32m----> 3\u001b[1;33m \u001b[0mexperimentos\u001b[0m \u001b[1;33m=\u001b[0m \u001b[1;33m[\u001b[0m\u001b[0mexperimento\u001b[0m \u001b[1;33m(\u001b[0m\u001b[1;36m100\u001b[0m\u001b[1;33m,\u001b[0m \u001b[1;33m[\u001b[0m\u001b[1;36m0\u001b[0m\u001b[1;33m,\u001b[0m\u001b[1;36m1\u001b[0m\u001b[1;33m,\u001b[0m\u001b[1;36m0\u001b[0m\u001b[1;33m]\u001b[0m\u001b[1;33m,\u001b[0m \u001b[1;32mTrue\u001b[0m\u001b[1;33m)\u001b[0m \u001b[1;32mfor\u001b[0m \u001b[0mk\u001b[0m \u001b[1;32min\u001b[0m \u001b[0mrange\u001b[0m\u001b[1;33m(\u001b[0m\u001b[1;36m1000\u001b[0m\u001b[1;33m)\u001b[0m\u001b[1;33m]\u001b[0m\u001b[1;33m\u001b[0m\u001b[0m\n\u001b[0m",
      "\u001b[1;32m<ipython-input-184-35fcefef47ce>\u001b[0m in \u001b[0;36mexperimento\u001b[1;34m(N, puertas, cambia)\u001b[0m\n\u001b[0;32m      8\u001b[0m \u001b[1;33m\u001b[0m\u001b[0m\n\u001b[0;32m      9\u001b[0m     \u001b[1;32mfor\u001b[0m \u001b[0mk\u001b[0m \u001b[1;32min\u001b[0m \u001b[0mrange\u001b[0m\u001b[1;33m(\u001b[0m\u001b[0mN\u001b[0m\u001b[1;33m)\u001b[0m\u001b[1;33m:\u001b[0m\u001b[1;33m\u001b[0m\u001b[0m\n\u001b[1;32m---> 10\u001b[1;33m         \u001b[0mr\u001b[0m \u001b[1;33m=\u001b[0m \u001b[0mjugar\u001b[0m \u001b[1;33m(\u001b[0m\u001b[1;33m[\u001b[0m\u001b[1;36m0\u001b[0m\u001b[1;33m,\u001b[0m\u001b[1;36m1\u001b[0m\u001b[1;33m,\u001b[0m\u001b[1;36m0\u001b[0m\u001b[1;33m]\u001b[0m\u001b[1;33m,\u001b[0m \u001b[0mcambia\u001b[0m\u001b[1;33m)\u001b[0m\u001b[1;33m\u001b[0m\u001b[0m\n\u001b[0m\u001b[0;32m     11\u001b[0m         \u001b[1;32mif\u001b[0m \u001b[0mr\u001b[0m\u001b[1;33m:\u001b[0m\u001b[1;33m\u001b[0m\u001b[0m\n\u001b[0;32m     12\u001b[0m             \u001b[0maciertos\u001b[0m \u001b[1;33m+=\u001b[0m\u001b[1;36m1\u001b[0m\u001b[1;33m\u001b[0m\u001b[0m\n",
      "\u001b[1;32m<ipython-input-153-5ddeb4fb863e>\u001b[0m in \u001b[0;36mjugar\u001b[1;34m(puertas, cambia)\u001b[0m\n\u001b[0;32m      7\u001b[0m     \u001b[0msegunda_puerta\u001b[0m \u001b[1;33m=\u001b[0m \u001b[0mpuertas\u001b[0m\u001b[1;33m.\u001b[0m\u001b[0mindex\u001b[0m\u001b[1;33m(\u001b[0m\u001b[1;36m0\u001b[0m\u001b[1;33m,\u001b[0m \u001b[0mprimera_puerta\u001b[0m\u001b[1;33m+\u001b[0m\u001b[1;36m1\u001b[0m\u001b[1;33m)\u001b[0m\u001b[1;33m\u001b[0m\u001b[0m\n\u001b[0;32m      8\u001b[0m \u001b[1;33m\u001b[0m\u001b[0m\n\u001b[1;32m----> 9\u001b[1;33m     \u001b[0mpuertas_presentador\u001b[0m \u001b[1;33m=\u001b[0m \u001b[0mset\u001b[0m\u001b[1;33m(\u001b[0m\u001b[1;33m[\u001b[0m\u001b[0mprimera_puerta\u001b[0m\u001b[1;33m,\u001b[0m \u001b[0msegunda_puerta\u001b[0m\u001b[1;33m]\u001b[0m\u001b[1;33m)\u001b[0m \u001b[1;33m-\u001b[0m \u001b[0mset\u001b[0m\u001b[1;33m(\u001b[0m\u001b[1;33m[\u001b[0m\u001b[0mpuerta\u001b[0m\u001b[1;33m]\u001b[0m\u001b[1;33m)\u001b[0m\u001b[1;33m\u001b[0m\u001b[0m\n\u001b[0m\u001b[0;32m     10\u001b[0m     \u001b[0mpresenta\u001b[0m \u001b[1;33m=\u001b[0m \u001b[0mrandom\u001b[0m\u001b[1;33m.\u001b[0m\u001b[0mchoice\u001b[0m\u001b[1;33m(\u001b[0m\u001b[0mlist\u001b[0m\u001b[1;33m(\u001b[0m\u001b[0mpuertas_presentador\u001b[0m\u001b[1;33m)\u001b[0m\u001b[1;33m)\u001b[0m\u001b[1;33m\u001b[0m\u001b[0m\n\u001b[0;32m     11\u001b[0m     \u001b[1;31m# print(\"El presentador muestra la puerta %d \" % presenta)\u001b[0m\u001b[1;33m\u001b[0m\u001b[1;33m\u001b[0m\u001b[0m\n",
      "\u001b[1;31mKeyboardInterrupt\u001b[0m: "
     ]
    }
   ],
   "source": [
    "# Ahora lo repito n veces.\n",
    "\n",
    "experimentos = [experimento (100, [0,1,0], True) for k in range(1000)]"
   ]
  },
  {
   "cell_type": "code",
   "execution_count": null,
   "metadata": {
    "collapsed": true
   },
   "outputs": [],
   "source": [
    "# Ahora vamos a implementar el cambiar de puerta"
   ]
  },
  {
   "cell_type": "code",
   "execution_count": null,
   "metadata": {
    "collapsed": true
   },
   "outputs": [],
   "source": [
    "def jugar(puertas, cambia=False):\n",
    "\n",
    "    puerta = random.choice(range(len(puertas)))\n",
    "    # print(\"El concursante elige la puerta %d\" % puerta)\n",
    "\n",
    "    primera_puerta = puertas.index(0)\n",
    "    segunda_puerta = puertas.index(0, primera_puerta+1)\n",
    "\n",
    "    puertas_presentador = set([primera_puerta, segunda_puerta]) - set([puerta])\n",
    "    presenta = random.choice(list(puertas_presentador))\n",
    "    # print(\"El presentador muestra la puerta %d \" % presenta)\n",
    "\n",
    "    assert puerta != presenta # Y no peta, #\n",
    "\n",
    "    puerta_cambiada_set = set([0,1,2]) - set([puerta, presenta])\n",
    "    puerta_cambiada = puerta_cambiada_set.pop()\n",
    "    \n",
    "    if cambia:\n",
    "        puerta = puerta_cambiada\n",
    "    \n",
    "    ha_ganado = (puertas[puerta] == 1)\n",
    "    \n",
    "    return ha_ganado"
   ]
  },
  {
   "cell_type": "code",
   "execution_count": null,
   "metadata": {
    "collapsed": true
   },
   "outputs": [],
   "source": [
    "jugar([0,1,0])"
   ]
  },
  {
   "cell_type": "code",
   "execution_count": 183,
   "metadata": {},
   "outputs": [
    {
     "data": {
      "text/plain": [
       "0.3363"
      ]
     },
     "execution_count": 183,
     "metadata": {},
     "output_type": "execute_result"
    }
   ],
   "source": [
    "experimento(100, [0,1,0], True)"
   ]
  },
  {
   "cell_type": "markdown",
   "metadata": {
    "collapsed": true
   },
   "source": [
    "## Versión final:"
   ]
  },
  {
   "cell_type": "code",
   "execution_count": 27,
   "metadata": {},
   "outputs": [],
   "source": [
    "def jugar(puertas, cambia=False):\n",
    "    assert len(puertas) == 3\n",
    "    \n",
    "    puerta = random.choice(range(len(puertas)))\n",
    "    #print(\"El concursante elige la puerta %d\" % puerta)\n",
    "\n",
    "    primera_puerta = puertas.index(0)\n",
    "    segunda_puerta = puertas.index(0,primera_puerta + 1)\n",
    "    \n",
    "    puertas_presentador = set([primera_puerta, segunda_puerta]) - set([puerta])\n",
    "    presenta = random.choice(list(puertas_presentador))\n",
    "    #print(\"El presentador muestra la puerta %d\" % presenta)\n",
    "\n",
    "    assert puerta != presenta\n",
    "    \n",
    "    puerta_cambiada_set = set([0,1,2]) - set([puerta, presenta])\n",
    "    puerta_cambiada = puerta_cambiada_set.pop()\n",
    "    \n",
    "    if cambia:\n",
    "        puerta = puerta_cambiada\n",
    "    \n",
    "    assert puerta in (set([0,1,2]) - set([presenta]))\n",
    "                                     \n",
    "    ha_ganado = (puertas[puerta] == 1)\n",
    "    \n",
    "    return ha_ganado"
   ]
  },
  {
   "cell_type": "code",
   "execution_count": 28,
   "metadata": {},
   "outputs": [
    {
     "data": {
      "text/plain": [
       "False"
      ]
     },
     "execution_count": 28,
     "metadata": {},
     "output_type": "execute_result"
    }
   ],
   "source": [
    "jugar([0,1,0], True)"
   ]
  },
  {
   "cell_type": "code",
   "execution_count": 29,
   "metadata": {
    "collapsed": true
   },
   "outputs": [],
   "source": [
    "def experimento(N, puertas, cambia):\n",
    "\n",
    "    aciertos = 0\n",
    "    for k in range(N):\n",
    "        r = jugar([0,1,0], cambia)\n",
    "        if r:\n",
    "            aciertos += 1\n",
    "            \n",
    "    return aciertos/N"
   ]
  },
  {
   "cell_type": "code",
   "execution_count": 30,
   "metadata": {},
   "outputs": [
    {
     "data": {
      "text/plain": [
       "0.66"
      ]
     },
     "execution_count": 30,
     "metadata": {},
     "output_type": "execute_result"
    }
   ],
   "source": [
    "experimento(1000, [0,1,0], True)"
   ]
  },
  {
   "cell_type": "code",
   "execution_count": 31,
   "metadata": {
    "collapsed": true
   },
   "outputs": [],
   "source": [
    "experimentos_sin_cambiar = [experimento(1000, [0,1,0], False) for k in range(1000)]\n",
    "experimentos_con_cambio = [experimento(1000, [0,1,0], True) for k in range(1000)]"
   ]
  },
  {
   "cell_type": "code",
   "execution_count": 32,
   "metadata": {},
   "outputs": [
    {
     "data": {
      "text/plain": [
       "<matplotlib.axes._subplots.AxesSubplot at 0x1f210e7c0b8>"
      ]
     },
     "execution_count": 32,
     "metadata": {},
     "output_type": "execute_result"
    },
    {
     "data": {
      "image/png": "[encoded data removed]",
      "text/plain": [
       "<matplotlib.figure.Figure at 0x1f210e718d0>"
      ]
     },
     "metadata": {},
     "output_type": "display_data"
    }
   ],
   "source": [
    "sns.distplot(experimentos_sin_cambiar); sns.distplot(experimentos_con_cambio)"
   ]
  },
  {
   "cell_type": "code",
   "execution_count": 190,
   "metadata": {
    "collapsed": true
   },
   "outputs": [],
   "source": [
    "# Ejercicio: cada uno de nosotros tiene un sitio en el aula y hay 15 sitios. Siempre llega primero Isabel, y elige cómo se sienta\n",
    "# como le apetece (probabilidad uniforme)\n",
    "# Todos los demás se sientan en su sitio si pueden, si no en otro al azar.\n",
    "# Al final ramón llega y se sienta donde puede. ¿Cuál es la probabilidad de que sea en su sitio?"
   ]
  },
  {
   "cell_type": "code",
   "execution_count": null,
   "metadata": {
    "collapsed": true
   },
   "outputs": [],
   "source": [
    "# Crear una función que sea rellenar sitios que devuelva si Ramón se ha sentado en su sitio o no. Con eso hacemos un experimento."
   ]
  }
 ],
 "metadata": {
  "kernelspec": {
   "display_name": "Python 3",
   "language": "python",
   "name": "python3"
  },
  "language_info": {
   "codemirror_mode": {
    "name": "ipython",
    "version": 3
   },
   "file_extension": ".py",
   "mimetype": "text/x-python",
   "name": "python",
   "nbconvert_exporter": "python",
   "pygments_lexer": "ipython3",
   "version": "3.6.3"
  }
 },
 "nbformat": 4,
 "nbformat_minor": 2
}

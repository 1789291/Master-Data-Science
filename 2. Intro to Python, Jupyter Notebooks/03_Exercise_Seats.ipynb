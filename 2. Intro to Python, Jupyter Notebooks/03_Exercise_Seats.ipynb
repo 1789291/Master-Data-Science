{
 "cells": [
  {
   "cell_type": "markdown",
   "metadata": {},
   "source": [
    "## Ejercicio:\n",
    "\n",
    "En el aula tenemos 15 sitios nada más. Cada persona tiene asignado un sitio. La primera en llegar es siempre Isabel, y el último en llegar es siempre Ramón. Cuando Isabel llega, se sienta donde le parece mejor, que puede ser su sitio o no. Cada nueva persona que llega intenta sentarse en su sitio correspondiente; pero si resulta que alguien lo ha ocupado, entonces se sienta en cualquier asiento libre que haya. Cuál es la probabilidad de que Ramón se siente en su sitio? Y si tenemos un aula con 100 personas y sitios, cambia la probabilidad?\n",
    "\n",
    "Cada vez que se llena el aula es una tirada. La probabilidad puntual hay que estimarla usando 100 tiradas. Estas 100 tiradas configuran un experimento, y darán una probabilidad estimada dividiendo el número de veces que Ramón se ha sentado en su sitio, dividido por 100. \n",
    "\n",
    "Para comprobar si la probabilidad es estable o no, repetiremos el experimento 200 veces. Después obtendremos una estimación de la función de densidad de la probabilidad.\n"
   ]
  },
  {
   "cell_type": "code",
   "execution_count": 1,
   "metadata": {
    "collapsed": true
   },
   "outputs": [],
   "source": [
    "import random\n",
    "import seaborn as sns\n",
    "import numpy as np\n",
    "import matplotlib.pyplot as plt\n",
    "from scipy.stats import norm\n",
    "\n",
    "%matplotlib inline"
   ]
  },
  {
   "cell_type": "markdown",
   "metadata": {},
   "source": [
    "En primer lugar, definimos el número de personas que intervendrán en el experimento:"
   ]
  },
  {
   "cell_type": "code",
   "execution_count": 2,
   "metadata": {
    "collapsed": true
   },
   "outputs": [],
   "source": [
    "numero_personas = 15"
   ]
  },
  {
   "cell_type": "markdown",
   "metadata": {},
   "source": [
    "Creamos dos listas:\n",
    "\n",
    "* Una lista `personas` con las personas que intervendrán\n",
    "* Una lista `sitios` con los sitios que tengan asignadas estas personas"
   ]
  },
  {
   "cell_type": "code",
   "execution_count": 3,
   "metadata": {},
   "outputs": [
    {
     "name": "stdout",
     "output_type": "stream",
     "text": [
      "['Alumno 0', 'Alumno 1', 'Alumno 2', 'Alumno 3', 'Alumno 4', 'Alumno 5', 'Alumno 6', 'Alumno 7', 'Alumno 8', 'Alumno 9', 'Alumno 10', 'Alumno 11', 'Alumno 12', 'Alumno 13', 'Alumno 14']\n",
      "[0, 1, 2, 3, 4, 5, 6, 7, 8, 9, 10, 11, 12, 13, 14]\n"
     ]
    }
   ],
   "source": [
    "# Lista de personas\n",
    "personas = []\n",
    "for x in range(numero_personas):\n",
    "    personas.append(\"Alumno \" + str(x))\n",
    "\n",
    "# Lista de sitios    \n",
    "sitios = list(range(0,len(personas)))\n",
    "\n",
    "print(personas)\n",
    "print(sitios)"
   ]
  },
  {
   "cell_type": "markdown",
   "metadata": {},
   "source": [
    "Definimos una función que reproduzca la situación en la que van llegando alumnos y se van sentando de acuerdo con el enunciado."
   ]
  },
  {
   "cell_type": "code",
   "execution_count": 4,
   "metadata": {
    "collapsed": true
   },
   "outputs": [],
   "source": [
    "def asignar_sitios_print (personas,sitios):\n",
    "    \n",
    "    d1 = dict((key, value) for (key, value) in zip(personas, sitios))  # Diccionario con los sitios \"que deberían ser\"\n",
    "    sitio_0 = random.choice(sitios)\n",
    "    \n",
    "    print('La asignación \"teórica\" de sitios es:')\n",
    "    print(d1)\n",
    "    print(\"\")\n",
    "    print(\"'Alumno 0' elige el sitio %d, que corresponde a '%s'.\" % (sitio_0, personas[sitio_0]))\n",
    "\n",
    "    \n",
    "    if (sitio_0 == 0):\n",
    "        resultado = 'El último se sienta en su sitio'\n",
    "        print(\"\")\n",
    "        print(\"'a' se sienta en su sitio, y todos los demás también \")\n",
    "    \n",
    "    else:\n",
    "        \n",
    "        d2 = {}  # Diccionario vacío que iremos rellenando\n",
    "        sitios_aux = list(sitios)  # Tengo que meter esto porque con el remove me cargo \"sitios\"\n",
    "        sitios_aux.remove(sitio_0)\n",
    "        personas_aux = list(personas)\n",
    "        personas_aux.remove('Alumno 0')\n",
    "        \n",
    "        print(\" \")\n",
    "        print(\"Los sitios que quedan libres son:\")\n",
    "        print(sitios_aux)\n",
    "        \n",
    "        for persona in personas_aux:  # Creo un diccionario que me diga dónde se va sentando cada uno\n",
    "            \n",
    "            if d1[persona] in sitios_aux:  # Si la persona tiene su sitio libre, se sienta en él\n",
    "                \n",
    "                d2[persona] = d1[persona]\n",
    "                sitios_aux.remove(d2[persona])\n",
    "                                \n",
    "            else:  # Si no, ocupa un sitio al azar\n",
    "                \n",
    "                sitio = random.choice(sitios_aux)\n",
    "                d2[persona] = sitio\n",
    "                sitios_aux.remove(sitio)    \n",
    "        \n",
    "        print(\" \")\n",
    "        print(\"Los sitios se asignan de la siguiente manera:\")\n",
    "        print (d2)\n",
    "                           \n",
    "        if (d2[list(d2.keys())[-1]]) == sitios[-1]:  \n",
    "            resultado = 'El último se sienta en su sitio'\n",
    "        else:\n",
    "            resultado = 'El último NO se sienta en su sitio'\n",
    "\n",
    "    return resultado"
   ]
  },
  {
   "cell_type": "markdown",
   "metadata": {},
   "source": [
    "Realizamos una ejecución de la función e imprimimos los resultados."
   ]
  },
  {
   "cell_type": "code",
   "execution_count": 5,
   "metadata": {
    "scrolled": false
   },
   "outputs": [
    {
     "name": "stdout",
     "output_type": "stream",
     "text": [
      "La asignación \"teórica\" de sitios es:\n",
      "{'Alumno 0': 0, 'Alumno 1': 1, 'Alumno 2': 2, 'Alumno 3': 3, 'Alumno 4': 4, 'Alumno 5': 5, 'Alumno 6': 6, 'Alumno 7': 7, 'Alumno 8': 8, 'Alumno 9': 9, 'Alumno 10': 10, 'Alumno 11': 11, 'Alumno 12': 12, 'Alumno 13': 13, 'Alumno 14': 14}\n",
      "\n",
      "'Alumno 0' elige el sitio 3, que corresponde a 'Alumno 3'.\n",
      " \n",
      "Los sitios que quedan libres son:\n",
      "[0, 1, 2, 4, 5, 6, 7, 8, 9, 10, 11, 12, 13, 14]\n",
      " \n",
      "Los sitios se asignan de la siguiente manera:\n",
      "{'Alumno 1': 1, 'Alumno 2': 2, 'Alumno 3': 14, 'Alumno 4': 4, 'Alumno 5': 5, 'Alumno 6': 6, 'Alumno 7': 7, 'Alumno 8': 8, 'Alumno 9': 9, 'Alumno 10': 10, 'Alumno 11': 11, 'Alumno 12': 12, 'Alumno 13': 13, 'Alumno 14': 0}\n"
     ]
    },
    {
     "data": {
      "text/plain": [
       "'El último NO se sienta en su sitio'"
      ]
     },
     "execution_count": 5,
     "metadata": {},
     "output_type": "execute_result"
    }
   ],
   "source": [
    "asignar_sitios_print(personas,sitios)"
   ]
  },
  {
   "cell_type": "markdown",
   "metadata": {},
   "source": [
    "Ahora definimos la misma función pero quitando los `print`:"
   ]
  },
  {
   "cell_type": "code",
   "execution_count": 6,
   "metadata": {
    "collapsed": true
   },
   "outputs": [],
   "source": [
    "def asignar_sitios (personas,sitios):\n",
    "    \n",
    "    d1 = dict((key, value) for (key, value) in zip(personas, sitios))  # Diccionario con los sitios \"que deberían ser\"\n",
    "    sitio_0 = random.choice(sitios)\n",
    "    \n",
    "    if (sitio_0 == 0):\n",
    "        resultado = 'El último se sienta en su sitio'\n",
    "    \n",
    "    else:\n",
    "        \n",
    "        d2 = {}  # Diccionario vacío que iremos rellenando\n",
    "        sitios_aux = list(sitios)  # Tengo que meter esto porque con el remove me cargo \"sitios\"\n",
    "        sitios_aux.remove(sitio_0)\n",
    "        personas_aux = list(personas)\n",
    "        personas_aux.remove('Alumno 0')\n",
    "                \n",
    "        for persona in personas_aux:  # Creo un diccionario que me diga dónde se va sentando cada uno\n",
    "            \n",
    "            if d1[persona] in sitios_aux:  # Si la persona tiene su sitio libre, se sienta en él\n",
    "                \n",
    "                d2[persona] = d1[persona]\n",
    "                sitios_aux.remove(d2[persona])\n",
    "                                \n",
    "            else:  # Si no, ocupa un sitio al azar\n",
    "                \n",
    "                sitio = random.choice(sitios_aux)\n",
    "                d2[persona] = sitio\n",
    "                sitios_aux.remove(sitio)    \n",
    "                                   \n",
    "        if (d2[list(d2.keys())[-1]]) == sitios[-1]:  \n",
    "            resultado = 'El último se sienta en su sitio'\n",
    "        else:\n",
    "            resultado = 'El último NO se sienta en su sitio'\n",
    "\n",
    "    return resultado"
   ]
  },
  {
   "cell_type": "markdown",
   "metadata": {},
   "source": [
    "Definimos la función `experimento` que repite N veces el ejercicio:"
   ]
  },
  {
   "cell_type": "code",
   "execution_count": 7,
   "metadata": {
    "collapsed": true
   },
   "outputs": [],
   "source": [
    "def experimento(N, personas, sitios):\n",
    "    ultimo_se_sienta = 0\n",
    "    for k in range(N):\n",
    "        r = asignar_sitios(personas,sitios)\n",
    "        if (r == 'El último se sienta en su sitio'):\n",
    "            ultimo_se_sienta += 1\n",
    "    return ultimo_se_sienta/N"
   ]
  },
  {
   "cell_type": "code",
   "execution_count": 8,
   "metadata": {},
   "outputs": [
    {
     "data": {
      "text/plain": [
       "0.51"
      ]
     },
     "execution_count": 8,
     "metadata": {},
     "output_type": "execute_result"
    }
   ],
   "source": [
    "experimento(100,personas,sitios)"
   ]
  },
  {
   "cell_type": "markdown",
   "metadata": {},
   "source": [
    "La ejecución de un experimento nos devuelve la cantidad de veces que el último se ha sentado en su sitio en las N ejeciciones.\n",
    "\n",
    "Si replicamos el ejercicio M veces, obtendremos una estimación de la probabilidad."
   ]
  },
  {
   "cell_type": "code",
   "execution_count": 9,
   "metadata": {
    "collapsed": true
   },
   "outputs": [],
   "source": [
    "experimentos_replica = [experimento(100, personas, sitios) for k in range(200)]"
   ]
  },
  {
   "cell_type": "code",
   "execution_count": 10,
   "metadata": {
    "scrolled": true
   },
   "outputs": [
    {
     "data": {
      "text/plain": [
       "<matplotlib.axes._subplots.AxesSubplot at 0x241ef1217f0>"
      ]
     },
     "execution_count": 10,
     "metadata": {},
     "output_type": "execute_result"
    },
    {
     "data": {
      "image/png": "[encoded data removed]",
      "text/plain": [
       "<matplotlib.figure.Figure at 0x241f3aa3860>"
      ]
     },
     "metadata": {},
     "output_type": "display_data"
    }
   ],
   "source": [
    "sns.distplot(experimentos_replica)"
   ]
  },
  {
   "cell_type": "markdown",
   "metadata": {},
   "source": [
    "Observamos que la probabilidad de que el último se siente en su sitio sigue una distribución aproximadamente normal centrada en 0.50."
   ]
  },
  {
   "cell_type": "markdown",
   "metadata": {},
   "source": [
    "¿Cómo podemos **afirmar** que la probabilidad realmente **es** igual a 0.5?"
   ]
  },
  {
   "cell_type": "markdown",
   "metadata": {},
   "source": [
    "Por cada experimento obtenemos un valor de la probabilidad. Si calculamos la media de la probabilidad a medida que vamos ejecutando experimentos, ¿a qué valor tenderá?\n",
    "\n",
    "Según la ley de los grandes números (https://en.wikipedia.org/wiki/Law_of_large_numbers), al repetir un experimento muchas veces, la media muestral de un parámetro se acerca al valor esperado en la población de ese parámetro.\n",
    "\n",
    "Por tanto, representaremos la media muestral a medida que vamos realizando repeticiones."
   ]
  },
  {
   "cell_type": "code",
   "execution_count": 11,
   "metadata": {},
   "outputs": [
    {
     "name": "stdout",
     "output_type": "stream",
     "text": [
      "Wall time: 9.99 s\n"
     ]
    }
   ],
   "source": [
    "%%time\n",
    "\n",
    "# Metemos en la lista \"resultados\" los valores de 1000 experimentos.\n",
    "\n",
    "resultados = []\n",
    "for x in range(1000):\n",
    "    resultados.append(experimento(1000, personas, sitios))"
   ]
  },
  {
   "cell_type": "code",
   "execution_count": 12,
   "metadata": {},
   "outputs": [
    {
     "data": {
      "text/plain": [
       "array([ 0.499,  0.51 ,  0.48 ,  0.478,  0.502])"
      ]
     },
     "execution_count": 12,
     "metadata": {},
     "output_type": "execute_result"
    }
   ],
   "source": [
    "# Convertimos la lista \"resultados\" a un array de numpy para poder calcular la media:\n",
    "\n",
    "resultados_array = np.asarray(resultados)\n",
    "type(resultados_array)\n",
    "resultados_array[:5]"
   ]
  },
  {
   "cell_type": "code",
   "execution_count": 13,
   "metadata": {
    "collapsed": true
   },
   "outputs": [],
   "source": [
    "# Calculamos para cada elemento \"i\" de la lista la media de los \"i-1\" anteriores.\n",
    "\n",
    "medias = []\n",
    "for x in range(1,1000):\n",
    "    medias.append(resultados_array[:x].mean())"
   ]
  },
  {
   "cell_type": "code",
   "execution_count": 14,
   "metadata": {},
   "outputs": [
    {
     "data": {
      "text/plain": [
       "[0.499,\n",
       " 0.50449999999999995,\n",
       " 0.49633333333333329,\n",
       " 0.49174999999999996,\n",
       " 0.49379999999999996]"
      ]
     },
     "execution_count": 14,
     "metadata": {},
     "output_type": "execute_result"
    }
   ],
   "source": [
    "medias[:5]"
   ]
  },
  {
   "cell_type": "code",
   "execution_count": 15,
   "metadata": {
    "collapsed": true
   },
   "outputs": [],
   "source": [
    "# Creamos una lista que representa la media poblacional\n",
    "\n",
    "media_poblacional = []\n",
    "for x in range(1,1000):\n",
    "    media_poblacional.append(0.5)"
   ]
  },
  {
   "cell_type": "markdown",
   "metadata": {},
   "source": [
    "Representamos la media muestral frente al número de repeticiones:"
   ]
  },
  {
   "cell_type": "code",
   "execution_count": 16,
   "metadata": {},
   "outputs": [
    {
     "data": {
      "text/plain": [
       "<matplotlib.legend.Legend at 0x241f3de93c8>"
      ]
     },
     "execution_count": 16,
     "metadata": {},
     "output_type": "execute_result"
    },
    {
     "data": {
      "image/png": "[encoded data removed]",
      "text/plain": [
       "<matplotlib.figure.Figure at 0x241f3d94e10>"
      ]
     },
     "metadata": {},
     "output_type": "display_data"
    }
   ],
   "source": [
    "a = np.arange(1,1000)\n",
    "\n",
    "fig = plt.figure()\n",
    "\n",
    "axes = fig.add_axes([1,1,1,1])\n",
    "\n",
    "axes.plot(a, media_poblacional, 'r', label = \"Media poblacional\")\n",
    "axes.plot(a, medias, label = \"Media muestral\")\n",
    "\n",
    "axes.set_xlabel('Número de repeticiones')\n",
    "axes.set_ylabel('Media muestral / Media poblacional')\n",
    "axes.set_title('Ley de los grandes números')\n",
    "\n",
    "axes.legend(loc = 4)\n"
   ]
  },
  {
   "cell_type": "markdown",
   "metadata": {},
   "source": [
    "Podemos observar que la media muestral va tendiendo a la media poblacional."
   ]
  },
  {
   "cell_type": "markdown",
   "metadata": {},
   "source": [
    "Utilizando el Teorema del Límite Central, podemos calcular un intervalo de confianza para la media muestral.\n",
    "\n",
    "Este intervalo debería ir reduciéndose a medida que aumenta el número de repeticiones"
   ]
  },
  {
   "cell_type": "code",
   "execution_count": 17,
   "metadata": {},
   "outputs": [
    {
     "data": {
      "text/plain": [
       "[0.0,\n",
       " 1.5125000000000027e-05,\n",
       " 5.118518518518528e-05,\n",
       " 4.4546875000000078e-05,\n",
       " 3.1872000000000057e-05]"
      ]
     },
     "execution_count": 17,
     "metadata": {},
     "output_type": "execute_result"
    }
   ],
   "source": [
    "# En \"medias\" tenemos los valores de la media muestral a medida que vamos repitiendo experimentos\n",
    "# Vamos a calcular el vector \"varianzas\" con la misma idea\n",
    "\n",
    "varianzas = []\n",
    "for x in range(1,1000):\n",
    "    varianzas.append((resultados_array[:x].var())/x) \n",
    "    \n",
    "varianzas[:5]"
   ]
  },
  {
   "cell_type": "code",
   "execution_count": 18,
   "metadata": {},
   "outputs": [
    {
     "name": "stderr",
     "output_type": "stream",
     "text": [
      "C:\\Users\\migue\\Anaconda3\\lib\\site-packages\\scipy\\stats\\_distn_infrastructure.py:1907: RuntimeWarning: invalid value encountered in multiply\n",
      "  lower_bound = self.a * scale + loc\n",
      "C:\\Users\\migue\\Anaconda3\\lib\\site-packages\\scipy\\stats\\_distn_infrastructure.py:1908: RuntimeWarning: invalid value encountered in multiply\n",
      "  upper_bound = self.b * scale + loc\n"
     ]
    }
   ],
   "source": [
    "frontera_superior = []\n",
    "frontera_inferior = []\n",
    "\n",
    "for x in range(999):\n",
    "    frontera_inferior.append(norm.ppf(0.1,medias[x],varianzas[x]))\n",
    "    frontera_superior.append(norm.ppf(0.9,medias[x],varianzas[x]))"
   ]
  },
  {
   "cell_type": "code",
   "execution_count": 19,
   "metadata": {
    "scrolled": false
   },
   "outputs": [
    {
     "data": {
      "text/plain": [
       "<matplotlib.legend.Legend at 0x241f41ccda0>"
      ]
     },
     "execution_count": 19,
     "metadata": {},
     "output_type": "execute_result"
    },
    {
     "data": {
      "image/png": "[encoded data removed]",
      "text/plain": [
       "<matplotlib.figure.Figure at 0x241f3e31da0>"
      ]
     },
     "metadata": {},
     "output_type": "display_data"
    }
   ],
   "source": [
    "a = np.arange(1,1000)\n",
    "\n",
    "fig = plt.figure()\n",
    "\n",
    "axes = fig.add_axes([1,1,1,1])\n",
    "\n",
    "axes.plot(a, media_poblacional, 'r', label = \"Media poblacional\")\n",
    "axes.plot(a, medias, label = \"Media muestral\")\n",
    "axes.plot(a,frontera_inferior, label = \"P. 10\")\n",
    "axes.plot(a,frontera_superior, label = \"P. 90\")\n",
    "\n",
    "axes.set_xlabel('Número de repeticiones')\n",
    "axes.set_ylabel('Media muestral / Media poblacional')\n",
    "axes.set_title('Ley de los grandes números')\n",
    "\n",
    "axes.legend(loc = 4)\n"
   ]
  },
  {
   "cell_type": "markdown",
   "metadata": {},
   "source": [
    "Debido a la escala, no se aprecia cómo se va estrechando el intervalo. Sin embargo, si definimos la diferencia como el valor de la frontera superior menos el valor de la inferior, podemos observar que ésta va disminuyendo."
   ]
  },
  {
   "cell_type": "code",
   "execution_count": 21,
   "metadata": {},
   "outputs": [
    {
     "data": {
      "text/plain": [
       "Text(0.5,1,'Evolución de la distancia entre las bandas')"
      ]
     },
     "execution_count": 21,
     "metadata": {},
     "output_type": "execute_result"
    },
    {
     "data": {
      "image/png": "[encoded data removed]",
      "text/plain": [
       "<matplotlib.figure.Figure at 0x241f3dc2b70>"
      ]
     },
     "metadata": {},
     "output_type": "display_data"
    }
   ],
   "source": [
    "diferencia = np.asarray(frontera_superior) - np.asarray(frontera_inferior)\n",
    "\n",
    "fig2 = plt.figure()\n",
    "\n",
    "axes2 = fig2.add_axes([1,1,1,1])\n",
    "\n",
    "axes2.plot(diferencia)\n",
    "\n",
    "axes2.set_xlabel('Número de repeticiones')\n",
    "axes2.set_ylabel('Distancia entre las bandas')\n",
    "axes2.set_title('Evolución de la distancia entre las bandas')\n",
    "\n"
   ]
  }
 ],
 "metadata": {
  "kernelspec": {
   "display_name": "Python 3",
   "language": "python",
   "name": "python3"
  },
  "language_info": {
   "codemirror_mode": {
    "name": "ipython",
    "version": 3
   },
   "file_extension": ".py",
   "mimetype": "text/x-python",
   "name": "python",
   "nbconvert_exporter": "python",
   "pygments_lexer": "ipython3",
   "version": "3.6.3"
  }
 },
 "nbformat": 4,
 "nbformat_minor": 2
}
